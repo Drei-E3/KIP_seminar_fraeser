{
 "cells": [
  {
   "cell_type": "code",
   "execution_count": 2,
   "metadata": {},
   "outputs": [
    {
     "name": "stdout",
     "output_type": "stream",
     "text": [
      "/workspaces/coding zm\n",
      "/workspaces/coding zm\n",
      "/workspaces/coding zm\n"
     ]
    }
   ],
   "source": [
    "from utils import WearDetector\n",
    "from utils import Grayscaler\n",
    "from utils import Cropper\n",
    "from utils import Augumentator"
   ]
  },
  {
   "cell_type": "code",
   "execution_count": 2,
   "metadata": {},
   "outputs": [
    {
     "name": "stdout",
     "output_type": "stream",
     "text": [
      "Dataset size:  25\n",
      "Found Colors (unique greyscale values [0..255]):  2\n",
      "Minimum Threshold: 0\n",
      "Maximum Threshold: 1\n",
      "New greyscale values:  [  0. 255.]\n",
      "Images processed and saved to: dataset/msks\n"
     ]
    }
   ],
   "source": [
    "# create masks and scale \n",
    "scaler = Grayscaler('dataset/labeled','dataset/msks')\n",
    "scaler.run()"
   ]
  },
  {
   "cell_type": "code",
   "execution_count": 3,
   "metadata": {},
   "outputs": [],
   "source": [
    "cropper = Cropper('dataset/imgs','dataset/prep/imgs')\n",
    "cropper.run()"
   ]
  },
  {
   "cell_type": "code",
   "execution_count": 4,
   "metadata": {},
   "outputs": [],
   "source": [
    "cropper_msk = Cropper('dataset/msks','dataset/prep/msks')\n",
    "cropper_msk.run()"
   ]
  },
  {
   "cell_type": "code",
   "execution_count": 3,
   "metadata": {},
   "outputs": [
    {
     "ename": "",
     "evalue": "",
     "output_type": "error",
     "traceback": [
      "\u001b[1;31mThe Kernel crashed while executing code in the current cell or a previous cell. \n",
      "\u001b[1;31mPlease review the code in the cell(s) to identify a possible cause of the failure. \n",
      "\u001b[1;31mClick <a href='https://aka.ms/vscodeJupyterKernelCrash'>here</a> for more info. \n",
      "\u001b[1;31mView Jupyter <a href='command:jupyter.viewOutput'>log</a> for further details."
     ]
    }
   ],
   "source": [
    "augumentator = Augumentator('dataset/prep/imgs','dataset/prep/msks')\n",
    "augumentator.rotation(inplace=1)\n",
    "augumentator.save('dataset/prep/imgs','dataset/prep/msks')\n",
    "augumentator.h_flip(inplace=1)\n",
    "augumentator.save('dataset/prep/imgs','dataset/prep/msks')\n",
    "augumentator.v_flip(inplace=1)\n",
    "augumentator.save('dataset/prep/imgs','dataset/prep/msks')\n",
    "augumentator.v_transl(inplace=1)\n",
    "augumentator.save('dataset/train/imgs','dataset/train/msks')"
   ]
  },
  {
   "cell_type": "code",
   "execution_count": 2,
   "metadata": {},
   "outputs": [
    {
     "name": "stderr",
     "output_type": "stream",
     "text": [
      "[ WARN:0@3.860] global loadsave.cpp:241 findDecoder imread_('dataset/prep/msks/aug_2_image0001037.png'): can't open/read file: check file path/integrity\n",
      "[ WARN:0@3.896] global loadsave.cpp:241 findDecoder imread_('dataset/prep/msks/aug_3_image0001055.png'): can't open/read file: check file path/integrity\n",
      "[ WARN:0@3.931] global loadsave.cpp:241 findDecoder imread_('dataset/prep/msks/aug_1_image0001015.png'): can't open/read file: check file path/integrity\n",
      "[ WARN:0@3.966] global loadsave.cpp:241 findDecoder imread_('dataset/prep/msks/aug_2_image0000857.png'): can't open/read file: check file path/integrity\n",
      "[ WARN:0@4.002] global loadsave.cpp:241 findDecoder imread_('dataset/prep/msks/aug_1_image0000849.png'): can't open/read file: check file path/integrity\n",
      "[ WARN:0@4.038] global loadsave.cpp:241 findDecoder imread_('dataset/prep/msks/aug_1_image0000861.png'): can't open/read file: check file path/integrity\n",
      "[ WARN:0@4.073] global loadsave.cpp:241 findDecoder imread_('dataset/prep/msks/aug_4_image0000805.png'): can't open/read file: check file path/integrity\n",
      "[ WARN:0@4.107] global loadsave.cpp:241 findDecoder imread_('dataset/prep/msks/aug_3_image0001056.png'): can't open/read file: check file path/integrity\n",
      "[ WARN:0@4.149] global loadsave.cpp:241 findDecoder imread_('dataset/prep/msks/aug_1_image0001016.png'): can't open/read file: check file path/integrity\n",
      "[ WARN:0@4.184] global loadsave.cpp:241 findDecoder imread_('dataset/prep/msks/aug_1_image0001002.png'): can't open/read file: check file path/integrity\n",
      "[ WARN:0@4.221] global loadsave.cpp:241 findDecoder imread_('dataset/prep/msks/aug_3_image0000836.png'): can't open/read file: check file path/integrity\n",
      "[ WARN:0@4.256] global loadsave.cpp:241 findDecoder imread_('dataset/prep/msks/aug_4_image0000838.png'): can't open/read file: check file path/integrity\n",
      "[ WARN:0@4.296] global loadsave.cpp:241 findDecoder imread_('dataset/prep/msks/aug_4_image0001075.png'): can't open/read file: check file path/integrity\n",
      "[ WARN:0@4.308] global loadsave.cpp:241 findDecoder imread_('dataset/prep/msks/image0001016.jpg'): can't open/read file: check file path/integrity\n",
      "[ WARN:0@4.344] global loadsave.cpp:241 findDecoder imread_('dataset/prep/msks/aug_3_image0000826.png'): can't open/read file: check file path/integrity\n",
      "[ WARN:0@4.354] global loadsave.cpp:241 findDecoder imread_('dataset/prep/msks/image0001002.jpg'): can't open/read file: check file path/integrity\n",
      "[ WARN:0@4.387] global loadsave.cpp:241 findDecoder imread_('dataset/prep/msks/aug_4_image0000948.png'): can't open/read file: check file path/integrity\n",
      "[ WARN:0@4.422] global loadsave.cpp:241 findDecoder imread_('dataset/prep/msks/aug_2_image0000851.png'): can't open/read file: check file path/integrity\n",
      "[ WARN:0@4.455] global loadsave.cpp:241 findDecoder imread_('dataset/prep/msks/aug_4_image0000975.png'): can't open/read file: check file path/integrity\n",
      "[ WARN:0@4.491] global loadsave.cpp:241 findDecoder imread_('dataset/prep/msks/aug_4_image0000785.png'): can't open/read file: check file path/integrity\n",
      "[ WARN:0@4.527] global loadsave.cpp:241 findDecoder imread_('dataset/prep/msks/aug_4_image0000791.png'): can't open/read file: check file path/integrity\n",
      "[ WARN:0@4.561] global loadsave.cpp:241 findDecoder imread_('dataset/prep/msks/aug_2_image0000886.png'): can't open/read file: check file path/integrity\n",
      "[ WARN:0@4.594] global loadsave.cpp:241 findDecoder imread_('dataset/prep/msks/aug_4_image0001074.png'): can't open/read file: check file path/integrity\n",
      "[ WARN:0@4.628] global loadsave.cpp:241 findDecoder imread_('dataset/prep/msks/aug_3_image0000947.png'): can't open/read file: check file path/integrity\n",
      "[ WARN:0@4.661] global loadsave.cpp:241 findDecoder imread_('dataset/prep/msks/aug_4_image0001076.png'): can't open/read file: check file path/integrity\n",
      "[ WARN:0@4.706] global loadsave.cpp:241 findDecoder imread_('dataset/prep/msks/aug_3_image0000831.png'): can't open/read file: check file path/integrity\n",
      "[ WARN:0@4.718] global loadsave.cpp:241 findDecoder imread_('dataset/prep/msks/image0001015.jpg'): can't open/read file: check file path/integrity\n",
      "[ WARN:0@4.753] global loadsave.cpp:241 findDecoder imread_('dataset/prep/msks/aug_4_image0000976.png'): can't open/read file: check file path/integrity\n",
      "[ WARN:0@4.766] global loadsave.cpp:241 findDecoder imread_('dataset/prep/msks/image0000861.jpg'): can't open/read file: check file path/integrity\n",
      "[ WARN:0@4.779] global loadsave.cpp:241 findDecoder imread_('dataset/prep/msks/image0000849.jpg'): can't open/read file: check file path/integrity\n",
      "[ WARN:0@4.817] global loadsave.cpp:241 findDecoder imread_('dataset/prep/msks/aug_3_image0000857.png'): can't open/read file: check file path/integrity\n",
      "[ WARN:0@4.853] global loadsave.cpp:241 findDecoder imread_('dataset/prep/msks/aug_1_image0001076.png'): can't open/read file: check file path/integrity\n",
      "[ WARN:0@4.891] global loadsave.cpp:241 findDecoder imread_('dataset/prep/msks/aug_3_image0001037.png'): can't open/read file: check file path/integrity\n",
      "[ WARN:0@4.925] global loadsave.cpp:241 findDecoder imread_('dataset/prep/msks/aug_2_image0001055.png'): can't open/read file: check file path/integrity\n",
      "[ WARN:0@4.959] global loadsave.cpp:241 findDecoder imread_('dataset/prep/msks/aug_1_image0000976.png'): can't open/read file: check file path/integrity\n",
      "[ WARN:0@4.993] global loadsave.cpp:241 findDecoder imread_('dataset/prep/msks/aug_1_image0000948.png'): can't open/read file: check file path/integrity\n",
      "[ WARN:0@5.005] global loadsave.cpp:241 findDecoder imread_('dataset/prep/msks/image0000805.jpg'): can't open/read file: check file path/integrity\n",
      "[ WARN:0@5.041] global loadsave.cpp:241 findDecoder imread_('dataset/prep/msks/aug_2_image0000836.png'): can't open/read file: check file path/integrity\n",
      "[ WARN:0@5.076] global loadsave.cpp:241 findDecoder imread_('dataset/prep/msks/aug_1_image0001075.png'): can't open/read file: check file path/integrity\n",
      "[ WARN:0@5.110] global loadsave.cpp:241 findDecoder imread_('dataset/prep/msks/aug_1_image0001074.png'): can't open/read file: check file path/integrity\n",
      "[ WARN:0@5.121] global loadsave.cpp:241 findDecoder imread_('dataset/prep/msks/image0000838.jpg'): can't open/read file: check file path/integrity\n",
      "[ WARN:0@5.157] global loadsave.cpp:241 findDecoder imread_('dataset/prep/msks/aug_2_image0001056.png'): can't open/read file: check file path/integrity\n",
      "[ WARN:0@5.194] global loadsave.cpp:241 findDecoder imread_('dataset/prep/msks/aug_1_image0000791.png'): can't open/read file: check file path/integrity\n",
      "[ WARN:0@5.231] global loadsave.cpp:241 findDecoder imread_('dataset/prep/msks/aug_1_image0000785.png'): can't open/read file: check file path/integrity\n",
      "[ WARN:0@5.265] global loadsave.cpp:241 findDecoder imread_('dataset/prep/msks/aug_1_image0000975.png'): can't open/read file: check file path/integrity\n",
      "[ WARN:0@5.303] global loadsave.cpp:241 findDecoder imread_('dataset/prep/msks/aug_2_image0000947.png'): can't open/read file: check file path/integrity\n",
      "[ WARN:0@5.339] global loadsave.cpp:241 findDecoder imread_('dataset/prep/msks/aug_4_image0001002.png'): can't open/read file: check file path/integrity\n",
      "[ WARN:0@5.376] global loadsave.cpp:241 findDecoder imread_('dataset/prep/msks/aug_4_image0001016.png'): can't open/read file: check file path/integrity\n",
      "[ WARN:0@5.387] global loadsave.cpp:241 findDecoder imread_('dataset/prep/msks/image0000948.jpg'): can't open/read file: check file path/integrity\n",
      "[ WARN:0@5.442] global loadsave.cpp:241 findDecoder imread_('dataset/prep/msks/aug_1_image0000805.png'): can't open/read file: check file path/integrity\n",
      "[ WARN:0@5.484] global loadsave.cpp:241 findDecoder imread_('dataset/prep/msks/aug_3_image0000851.png'): can't open/read file: check file path/integrity\n",
      "[ WARN:0@5.498] global loadsave.cpp:241 findDecoder imread_('dataset/prep/msks/image0001075.jpg'): can't open/read file: check file path/integrity\n",
      "[ WARN:0@5.534] global loadsave.cpp:241 findDecoder imread_('dataset/prep/msks/aug_3_image0000886.png'): can't open/read file: check file path/integrity\n",
      "[ WARN:0@5.570] global loadsave.cpp:241 findDecoder imread_('dataset/prep/msks/aug_2_image0000826.png'): can't open/read file: check file path/integrity\n",
      "[ WARN:0@5.581] global loadsave.cpp:241 findDecoder imread_('dataset/prep/msks/image0001074.jpg'): can't open/read file: check file path/integrity\n",
      "[ WARN:0@5.617] global loadsave.cpp:241 findDecoder imread_('dataset/prep/msks/aug_1_image0000838.png'): can't open/read file: check file path/integrity\n",
      "[ WARN:0@5.627] global loadsave.cpp:241 findDecoder imread_('dataset/prep/msks/image0000975.jpg'): can't open/read file: check file path/integrity\n",
      "[ WARN:0@5.639] global loadsave.cpp:241 findDecoder imread_('dataset/prep/msks/image0000791.jpg'): can't open/read file: check file path/integrity\n",
      "[ WARN:0@5.650] global loadsave.cpp:241 findDecoder imread_('dataset/prep/msks/image0000785.jpg'): can't open/read file: check file path/integrity\n",
      "[ WARN:0@5.686] global loadsave.cpp:241 findDecoder imread_('dataset/prep/msks/aug_4_image0001015.png'): can't open/read file: check file path/integrity\n",
      "[ WARN:0@5.697] global loadsave.cpp:241 findDecoder imread_('dataset/prep/msks/image0001076.jpg'): can't open/read file: check file path/integrity\n",
      "[ WARN:0@5.734] global loadsave.cpp:241 findDecoder imread_('dataset/prep/msks/aug_2_image0000831.png'): can't open/read file: check file path/integrity\n",
      "[ WARN:0@5.745] global loadsave.cpp:241 findDecoder imread_('dataset/prep/msks/image0000976.jpg'): can't open/read file: check file path/integrity\n",
      "[ WARN:0@5.795] global loadsave.cpp:241 findDecoder imread_('dataset/prep/msks/aug_4_image0000861.png'): can't open/read file: check file path/integrity\n",
      "[ WARN:0@5.834] global loadsave.cpp:241 findDecoder imread_('dataset/prep/msks/aug_4_image0000849.png'): can't open/read file: check file path/integrity\n",
      "[ WARN:0@5.870] global loadsave.cpp:241 findDecoder imread_('dataset/prep/msks/aug_2_image0000948.png'): can't open/read file: check file path/integrity\n",
      "[ WARN:0@5.883] global loadsave.cpp:241 findDecoder imread_('dataset/prep/msks/image0000947.jpg'): can't open/read file: check file path/integrity\n",
      "[ WARN:0@5.920] global loadsave.cpp:241 findDecoder imread_('dataset/prep/msks/aug_1_image0000836.png'): can't open/read file: check file path/integrity\n",
      "[ WARN:0@5.954] global loadsave.cpp:241 findDecoder imread_('dataset/prep/msks/aug_2_image0001075.png'): can't open/read file: check file path/integrity\n",
      "[ WARN:0@5.988] global loadsave.cpp:241 findDecoder imread_('dataset/prep/msks/aug_1_image0001056.png'): can't open/read file: check file path/integrity\n",
      "[ WARN:0@6.023] global loadsave.cpp:241 findDecoder imread_('dataset/prep/msks/aug_3_image0001016.png'): can't open/read file: check file path/integrity\n",
      "[ WARN:0@6.034] global loadsave.cpp:241 findDecoder imread_('dataset/prep/msks/image0000826.jpg'): can't open/read file: check file path/integrity\n",
      "[ WARN:0@6.067] global loadsave.cpp:241 findDecoder imread_('dataset/prep/msks/aug_3_image0001002.png'): can't open/read file: check file path/integrity\n",
      "[ WARN:0@6.107] global loadsave.cpp:241 findDecoder imread_('dataset/prep/msks/aug_2_image0001074.png'): can't open/read file: check file path/integrity\n",
      "[ WARN:0@6.147] global loadsave.cpp:241 findDecoder imread_('dataset/prep/msks/aug_2_image0000785.png'): can't open/read file: check file path/integrity\n",
      "[ WARN:0@6.183] global loadsave.cpp:241 findDecoder imread_('dataset/prep/msks/aug_2_image0000791.png'): can't open/read file: check file path/integrity\n",
      "[ WARN:0@6.217] global loadsave.cpp:241 findDecoder imread_('dataset/prep/msks/aug_2_image0000975.png'): can't open/read file: check file path/integrity\n",
      "[ WARN:0@6.254] global loadsave.cpp:241 findDecoder imread_('dataset/prep/msks/aug_4_image0000851.png'): can't open/read file: check file path/integrity\n",
      "[ WARN:0@6.288] global loadsave.cpp:241 findDecoder imread_('dataset/prep/msks/aug_4_image0000886.png'): can't open/read file: check file path/integrity\n",
      "[ WARN:0@6.324] global loadsave.cpp:241 findDecoder imread_('dataset/prep/msks/aug_2_image0001076.png'): can't open/read file: check file path/integrity\n",
      "[ WARN:0@6.361] global loadsave.cpp:241 findDecoder imread_('dataset/prep/msks/aug_3_image0000861.png'): can't open/read file: check file path/integrity\n",
      "[ WARN:0@6.398] global loadsave.cpp:241 findDecoder imread_('dataset/prep/msks/aug_3_image0000849.png'): can't open/read file: check file path/integrity\n",
      "[ WARN:0@6.432] global loadsave.cpp:241 findDecoder imread_('dataset/prep/msks/aug_1_image0001055.png'): can't open/read file: check file path/integrity\n",
      "[ WARN:0@6.444] global loadsave.cpp:241 findDecoder imread_('dataset/prep/msks/image0000831.jpg'): can't open/read file: check file path/integrity\n",
      "[ WARN:0@6.479] global loadsave.cpp:241 findDecoder imread_('dataset/prep/msks/aug_3_image0001015.png'): can't open/read file: check file path/integrity\n",
      "[ WARN:0@6.514] global loadsave.cpp:241 findDecoder imread_('dataset/prep/msks/aug_2_image0000976.png'): can't open/read file: check file path/integrity\n",
      "[ WARN:0@6.549] global loadsave.cpp:241 findDecoder imread_('dataset/prep/msks/aug_4_image0001037.png'): can't open/read file: check file path/integrity\n",
      "[ WARN:0@6.561] global loadsave.cpp:241 findDecoder imread_('dataset/prep/msks/image0001055.jpg'): can't open/read file: check file path/integrity\n",
      "[ WARN:0@6.598] global loadsave.cpp:241 findDecoder imread_('dataset/prep/msks/aug_1_image0000831.png'): can't open/read file: check file path/integrity\n",
      "[ WARN:0@6.636] global loadsave.cpp:241 findDecoder imread_('dataset/prep/msks/aug_4_image0000857.png'): can't open/read file: check file path/integrity\n",
      "[ WARN:0@6.670] global loadsave.cpp:241 findDecoder imread_('dataset/prep/msks/aug_1_image0000947.png'): can't open/read file: check file path/integrity\n",
      "[ WARN:0@6.682] global loadsave.cpp:241 findDecoder imread_('dataset/prep/msks/image0000836.jpg'): can't open/read file: check file path/integrity\n",
      "[ WARN:0@6.720] global loadsave.cpp:241 findDecoder imread_('dataset/prep/msks/aug_2_image0000805.png'): can't open/read file: check file path/integrity\n",
      "[ WARN:0@6.756] global loadsave.cpp:241 findDecoder imread_('dataset/prep/msks/aug_2_image0000838.png'): can't open/read file: check file path/integrity\n",
      "[ WARN:0@6.769] global loadsave.cpp:241 findDecoder imread_('dataset/prep/msks/image0001056.jpg'): can't open/read file: check file path/integrity\n",
      "[ WARN:0@6.806] global loadsave.cpp:241 findDecoder imread_('dataset/prep/msks/aug_1_image0000826.png'): can't open/read file: check file path/integrity\n",
      "[ WARN:0@6.841] global loadsave.cpp:241 findDecoder imread_('dataset/prep/msks/aug_3_image0000975.png'): can't open/read file: check file path/integrity\n",
      "[ WARN:0@6.877] global loadsave.cpp:241 findDecoder imread_('dataset/prep/msks/aug_3_image0000791.png'): can't open/read file: check file path/integrity\n",
      "[ WARN:0@6.914] global loadsave.cpp:241 findDecoder imread_('dataset/prep/msks/aug_3_image0000785.png'): can't open/read file: check file path/integrity\n",
      "[ WARN:0@6.950] global loadsave.cpp:241 findDecoder imread_('dataset/prep/msks/aug_2_image0001002.png'): can't open/read file: check file path/integrity\n",
      "[ WARN:0@6.986] global loadsave.cpp:241 findDecoder imread_('dataset/prep/msks/aug_2_image0001016.png'): can't open/read file: check file path/integrity\n",
      "[ WARN:0@7.021] global loadsave.cpp:241 findDecoder imread_('dataset/prep/msks/aug_3_image0001074.png'): can't open/read file: check file path/integrity\n",
      "[ WARN:0@7.055] global loadsave.cpp:241 findDecoder imread_('dataset/prep/msks/aug_4_image0000947.png'): can't open/read file: check file path/integrity\n",
      "[ WARN:0@7.068] global loadsave.cpp:241 findDecoder imread_('dataset/prep/msks/image0000851.jpg'): can't open/read file: check file path/integrity\n",
      "[ WARN:0@7.104] global loadsave.cpp:241 findDecoder imread_('dataset/prep/msks/aug_3_image0001075.png'): can't open/read file: check file path/integrity\n",
      "[ WARN:0@7.117] global loadsave.cpp:241 findDecoder imread_('dataset/prep/msks/image0000886.jpg'): can't open/read file: check file path/integrity\n",
      "[ WARN:0@7.155] global loadsave.cpp:241 findDecoder imread_('dataset/prep/msks/aug_4_image0000826.png'): can't open/read file: check file path/integrity\n",
      "[ WARN:0@7.191] global loadsave.cpp:241 findDecoder imread_('dataset/prep/msks/aug_3_image0000948.png'): can't open/read file: check file path/integrity\n",
      "[ WARN:0@7.225] global loadsave.cpp:241 findDecoder imread_('dataset/prep/msks/aug_3_image0000976.png'): can't open/read file: check file path/integrity\n",
      "[ WARN:0@7.264] global loadsave.cpp:241 findDecoder imread_('dataset/prep/msks/aug_2_image0001015.png'): can't open/read file: check file path/integrity\n",
      "[ WARN:0@7.302] global loadsave.cpp:241 findDecoder imread_('dataset/prep/msks/aug_1_image0001037.png'): can't open/read file: check file path/integrity\n",
      "[ WARN:0@7.340] global loadsave.cpp:241 findDecoder imread_('dataset/prep/msks/aug_2_image0000849.png'): can't open/read file: check file path/integrity\n",
      "[ WARN:0@7.378] global loadsave.cpp:241 findDecoder imread_('dataset/prep/msks/aug_2_image0000861.png'): can't open/read file: check file path/integrity\n",
      "[ WARN:0@7.414] global loadsave.cpp:241 findDecoder imread_('dataset/prep/msks/aug_3_image0001076.png'): can't open/read file: check file path/integrity\n",
      "[ WARN:0@7.452] global loadsave.cpp:241 findDecoder imread_('dataset/prep/msks/aug_1_image0000857.png'): can't open/read file: check file path/integrity\n",
      "[ WARN:0@7.490] global loadsave.cpp:241 findDecoder imread_('dataset/prep/msks/aug_4_image0000831.png'): can't open/read file: check file path/integrity\n",
      "[ WARN:0@7.504] global loadsave.cpp:241 findDecoder imread_('dataset/prep/msks/image0001037.jpg'): can't open/read file: check file path/integrity\n",
      "[ WARN:0@7.519] global loadsave.cpp:241 findDecoder imread_('dataset/prep/msks/image0000857.jpg'): can't open/read file: check file path/integrity\n",
      "[ WARN:0@7.557] global loadsave.cpp:241 findDecoder imread_('dataset/prep/msks/aug_4_image0001055.png'): can't open/read file: check file path/integrity\n",
      "[ WARN:0@7.595] global loadsave.cpp:241 findDecoder imread_('dataset/prep/msks/aug_4_image0000836.png'): can't open/read file: check file path/integrity\n",
      "[ WARN:0@7.632] global loadsave.cpp:241 findDecoder imread_('dataset/prep/msks/aug_3_image0000838.png'): can't open/read file: check file path/integrity\n",
      "[ WARN:0@7.670] global loadsave.cpp:241 findDecoder imread_('dataset/prep/msks/aug_3_image0000805.png'): can't open/read file: check file path/integrity\n",
      "[ WARN:0@7.704] global loadsave.cpp:241 findDecoder imread_('dataset/prep/msks/aug_1_image0000886.png'): can't open/read file: check file path/integrity\n",
      "[ WARN:0@7.742] global loadsave.cpp:241 findDecoder imread_('dataset/prep/msks/aug_1_image0000851.png'): can't open/read file: check file path/integrity\n",
      "[ WARN:0@7.776] global loadsave.cpp:241 findDecoder imread_('dataset/prep/msks/aug_4_image0001056.png'): can't open/read file: check file path/integrity\n"
     ]
    }
   ],
   "source": [
    "import numpy as np\n",
    "import os\n",
    "import cv2\n",
    "data_path ={'images':'dataset/prep/imgs','masks':'dataset/prep/msks'}\n",
    "images_dir = data_path['images']\n",
    "masks_dir = data_path['masks']\n",
    "images = []\n",
    "masks = []\n",
    "\n",
    "# Load images and corresponding masks\n",
    "for filename in os.listdir(images_dir):\n",
    "    if filename.endswith(('.jpg', '.jpeg', '.png','tiff')):\n",
    "        img_path = os.path.join(images_dir, filename)\n",
    "        mask_path = os.path.join(masks_dir, filename)  \n",
    "\n",
    "        # Read the image and mask\n",
    "        img = cv2.imread(img_path)\n",
    "        mask = cv2.imread(mask_path)  \n",
    "\n",
    "\n",
    "\n",
    "        images.append(img)\n",
    "        masks.append(mask)\n"
   ]
  },
  {
   "cell_type": "code",
   "execution_count": null,
   "metadata": {},
   "outputs": [
    {
     "name": "stderr",
     "output_type": "stream",
     "text": [
      "[ WARN:0@5.203] global loadsave.cpp:241 findDecoder imread_('dataset/prep/msks/aug_2_image0001037.png'): can't open/read file: check file path/integrity\n",
      "[ WARN:0@5.271] global loadsave.cpp:241 findDecoder imread_('dataset/prep/msks/aug_3_image0001055.png'): can't open/read file: check file path/integrity\n",
      "[ WARN:0@5.330] global loadsave.cpp:241 findDecoder imread_('dataset/prep/msks/aug_1_image0001015.png'): can't open/read file: check file path/integrity\n",
      "[ WARN:0@5.396] global loadsave.cpp:241 findDecoder imread_('dataset/prep/msks/aug_2_image0000857.png'): can't open/read file: check file path/integrity\n",
      "[ WARN:0@5.457] global loadsave.cpp:241 findDecoder imread_('dataset/prep/msks/aug_1_image0000849.png'): can't open/read file: check file path/integrity\n",
      "[ WARN:0@5.517] global loadsave.cpp:241 findDecoder imread_('dataset/prep/msks/aug_1_image0000861.png'): can't open/read file: check file path/integrity\n",
      "[ WARN:0@5.575] global loadsave.cpp:241 findDecoder imread_('dataset/prep/msks/aug_4_image0000805.png'): can't open/read file: check file path/integrity\n",
      "[ WARN:0@5.631] global loadsave.cpp:241 findDecoder imread_('dataset/prep/msks/aug_3_image0001056.png'): can't open/read file: check file path/integrity\n",
      "[ WARN:0@5.689] global loadsave.cpp:241 findDecoder imread_('dataset/prep/msks/aug_1_image0001016.png'): can't open/read file: check file path/integrity\n",
      "[ WARN:0@5.748] global loadsave.cpp:241 findDecoder imread_('dataset/prep/msks/aug_1_image0001002.png'): can't open/read file: check file path/integrity\n",
      "[ WARN:0@5.808] global loadsave.cpp:241 findDecoder imread_('dataset/prep/msks/aug_3_image0000836.png'): can't open/read file: check file path/integrity\n",
      "[ WARN:0@5.866] global loadsave.cpp:241 findDecoder imread_('dataset/prep/msks/aug_4_image0000838.png'): can't open/read file: check file path/integrity\n",
      "[ WARN:0@5.923] global loadsave.cpp:241 findDecoder imread_('dataset/prep/msks/aug_4_image0001075.png'): can't open/read file: check file path/integrity\n",
      "[ WARN:0@5.956] global loadsave.cpp:241 findDecoder imread_('dataset/prep/msks/image0001016.jpg'): can't open/read file: check file path/integrity\n",
      "[ WARN:0@6.015] global loadsave.cpp:241 findDecoder imread_('dataset/prep/msks/aug_3_image0000826.png'): can't open/read file: check file path/integrity\n",
      "[ WARN:0@6.047] global loadsave.cpp:241 findDecoder imread_('dataset/prep/msks/image0001002.jpg'): can't open/read file: check file path/integrity\n",
      "[ WARN:0@6.102] global loadsave.cpp:241 findDecoder imread_('dataset/prep/msks/aug_4_image0000948.png'): can't open/read file: check file path/integrity\n",
      "[ WARN:0@6.163] global loadsave.cpp:241 findDecoder imread_('dataset/prep/msks/aug_2_image0000851.png'): can't open/read file: check file path/integrity\n",
      "[ WARN:0@6.220] global loadsave.cpp:241 findDecoder imread_('dataset/prep/msks/aug_4_image0000975.png'): can't open/read file: check file path/integrity\n",
      "[ WARN:0@6.281] global loadsave.cpp:241 findDecoder imread_('dataset/prep/msks/aug_4_image0000785.png'): can't open/read file: check file path/integrity\n",
      "[ WARN:0@6.340] global loadsave.cpp:241 findDecoder imread_('dataset/prep/msks/aug_4_image0000791.png'): can't open/read file: check file path/integrity\n",
      "[ WARN:0@6.397] global loadsave.cpp:241 findDecoder imread_('dataset/prep/msks/aug_2_image0000886.png'): can't open/read file: check file path/integrity\n",
      "[ WARN:0@6.453] global loadsave.cpp:241 findDecoder imread_('dataset/prep/msks/aug_4_image0001074.png'): can't open/read file: check file path/integrity\n",
      "[ WARN:0@6.510] global loadsave.cpp:241 findDecoder imread_('dataset/prep/msks/aug_3_image0000947.png'): can't open/read file: check file path/integrity\n",
      "[ WARN:0@6.566] global loadsave.cpp:241 findDecoder imread_('dataset/prep/msks/aug_4_image0001076.png'): can't open/read file: check file path/integrity\n",
      "[ WARN:0@6.625] global loadsave.cpp:241 findDecoder imread_('dataset/prep/msks/aug_3_image0000831.png'): can't open/read file: check file path/integrity\n",
      "[ WARN:0@6.658] global loadsave.cpp:241 findDecoder imread_('dataset/prep/msks/image0001015.jpg'): can't open/read file: check file path/integrity\n",
      "[ WARN:0@6.716] global loadsave.cpp:241 findDecoder imread_('dataset/prep/msks/aug_4_image0000976.png'): can't open/read file: check file path/integrity\n",
      "[ WARN:0@6.749] global loadsave.cpp:241 findDecoder imread_('dataset/prep/msks/image0000861.jpg'): can't open/read file: check file path/integrity\n",
      "[ WARN:0@6.782] global loadsave.cpp:241 findDecoder imread_('dataset/prep/msks/image0000849.jpg'): can't open/read file: check file path/integrity\n",
      "[ WARN:0@6.842] global loadsave.cpp:241 findDecoder imread_('dataset/prep/msks/aug_3_image0000857.png'): can't open/read file: check file path/integrity\n",
      "[ WARN:0@6.900] global loadsave.cpp:241 findDecoder imread_('dataset/prep/msks/aug_1_image0001076.png'): can't open/read file: check file path/integrity\n",
      "[ WARN:0@6.957] global loadsave.cpp:241 findDecoder imread_('dataset/prep/msks/aug_3_image0001037.png'): can't open/read file: check file path/integrity\n",
      "[ WARN:0@7.015] global loadsave.cpp:241 findDecoder imread_('dataset/prep/msks/aug_2_image0001055.png'): can't open/read file: check file path/integrity\n",
      "[ WARN:0@7.073] global loadsave.cpp:241 findDecoder imread_('dataset/prep/msks/aug_1_image0000976.png'): can't open/read file: check file path/integrity\n",
      "[ WARN:0@7.129] global loadsave.cpp:241 findDecoder imread_('dataset/prep/msks/aug_1_image0000948.png'): can't open/read file: check file path/integrity\n",
      "[ WARN:0@7.161] global loadsave.cpp:241 findDecoder imread_('dataset/prep/msks/image0000805.jpg'): can't open/read file: check file path/integrity\n",
      "[ WARN:0@7.218] global loadsave.cpp:241 findDecoder imread_('dataset/prep/msks/aug_2_image0000836.png'): can't open/read file: check file path/integrity\n",
      "[ WARN:0@7.274] global loadsave.cpp:241 findDecoder imread_('dataset/prep/msks/aug_1_image0001075.png'): can't open/read file: check file path/integrity\n",
      "[ WARN:0@7.331] global loadsave.cpp:241 findDecoder imread_('dataset/prep/msks/aug_1_image0001074.png'): can't open/read file: check file path/integrity\n",
      "[ WARN:0@7.362] global loadsave.cpp:241 findDecoder imread_('dataset/prep/msks/image0000838.jpg'): can't open/read file: check file path/integrity\n",
      "[ WARN:0@7.418] global loadsave.cpp:241 findDecoder imread_('dataset/prep/msks/aug_2_image0001056.png'): can't open/read file: check file path/integrity\n",
      "[ WARN:0@7.476] global loadsave.cpp:241 findDecoder imread_('dataset/prep/msks/aug_1_image0000791.png'): can't open/read file: check file path/integrity\n",
      "[ WARN:0@7.538] global loadsave.cpp:241 findDecoder imread_('dataset/prep/msks/aug_1_image0000785.png'): can't open/read file: check file path/integrity\n",
      "[ WARN:0@7.596] global loadsave.cpp:241 findDecoder imread_('dataset/prep/msks/aug_1_image0000975.png'): can't open/read file: check file path/integrity\n",
      "[ WARN:0@7.652] global loadsave.cpp:241 findDecoder imread_('dataset/prep/msks/aug_2_image0000947.png'): can't open/read file: check file path/integrity\n",
      "[ WARN:0@7.708] global loadsave.cpp:241 findDecoder imread_('dataset/prep/msks/aug_4_image0001002.png'): can't open/read file: check file path/integrity\n",
      "[ WARN:0@7.766] global loadsave.cpp:241 findDecoder imread_('dataset/prep/msks/aug_4_image0001016.png'): can't open/read file: check file path/integrity\n",
      "[ WARN:0@7.798] global loadsave.cpp:241 findDecoder imread_('dataset/prep/msks/image0000948.jpg'): can't open/read file: check file path/integrity\n",
      "[ WARN:0@7.856] global loadsave.cpp:241 findDecoder imread_('dataset/prep/msks/aug_1_image0000805.png'): can't open/read file: check file path/integrity\n",
      "[ WARN:0@7.917] global loadsave.cpp:241 findDecoder imread_('dataset/prep/msks/aug_3_image0000851.png'): can't open/read file: check file path/integrity\n",
      "[ WARN:0@7.949] global loadsave.cpp:241 findDecoder imread_('dataset/prep/msks/image0001075.jpg'): can't open/read file: check file path/integrity\n",
      "[ WARN:0@8.005] global loadsave.cpp:241 findDecoder imread_('dataset/prep/msks/aug_3_image0000886.png'): can't open/read file: check file path/integrity\n",
      "[ WARN:0@8.063] global loadsave.cpp:241 findDecoder imread_('dataset/prep/msks/aug_2_image0000826.png'): can't open/read file: check file path/integrity\n",
      "[ WARN:0@8.095] global loadsave.cpp:241 findDecoder imread_('dataset/prep/msks/image0001074.jpg'): can't open/read file: check file path/integrity\n",
      "[ WARN:0@8.152] global loadsave.cpp:241 findDecoder imread_('dataset/prep/msks/aug_1_image0000838.png'): can't open/read file: check file path/integrity\n",
      "[ WARN:0@8.185] global loadsave.cpp:241 findDecoder imread_('dataset/prep/msks/image0000975.jpg'): can't open/read file: check file path/integrity\n",
      "[ WARN:0@8.217] global loadsave.cpp:241 findDecoder imread_('dataset/prep/msks/image0000791.jpg'): can't open/read file: check file path/integrity\n",
      "[ WARN:0@8.248] global loadsave.cpp:241 findDecoder imread_('dataset/prep/msks/image0000785.jpg'): can't open/read file: check file path/integrity\n",
      "[ WARN:0@8.307] global loadsave.cpp:241 findDecoder imread_('dataset/prep/msks/aug_4_image0001015.png'): can't open/read file: check file path/integrity\n",
      "[ WARN:0@8.339] global loadsave.cpp:241 findDecoder imread_('dataset/prep/msks/image0001076.jpg'): can't open/read file: check file path/integrity\n",
      "[ WARN:0@8.397] global loadsave.cpp:241 findDecoder imread_('dataset/prep/msks/aug_2_image0000831.png'): can't open/read file: check file path/integrity\n",
      "[ WARN:0@8.429] global loadsave.cpp:241 findDecoder imread_('dataset/prep/msks/image0000976.jpg'): can't open/read file: check file path/integrity\n",
      "[ WARN:0@8.488] global loadsave.cpp:241 findDecoder imread_('dataset/prep/msks/aug_4_image0000861.png'): can't open/read file: check file path/integrity\n",
      "[ WARN:0@8.546] global loadsave.cpp:241 findDecoder imread_('dataset/prep/msks/aug_4_image0000849.png'): can't open/read file: check file path/integrity\n",
      "[ WARN:0@8.602] global loadsave.cpp:241 findDecoder imread_('dataset/prep/msks/aug_2_image0000948.png'): can't open/read file: check file path/integrity\n",
      "[ WARN:0@8.633] global loadsave.cpp:241 findDecoder imread_('dataset/prep/msks/image0000947.jpg'): can't open/read file: check file path/integrity\n",
      "[ WARN:0@8.690] global loadsave.cpp:241 findDecoder imread_('dataset/prep/msks/aug_1_image0000836.png'): can't open/read file: check file path/integrity\n",
      "[ WARN:0@8.746] global loadsave.cpp:241 findDecoder imread_('dataset/prep/msks/aug_2_image0001075.png'): can't open/read file: check file path/integrity\n",
      "[ WARN:0@8.801] global loadsave.cpp:241 findDecoder imread_('dataset/prep/msks/aug_1_image0001056.png'): can't open/read file: check file path/integrity\n",
      "[ WARN:0@8.858] global loadsave.cpp:241 findDecoder imread_('dataset/prep/msks/aug_3_image0001016.png'): can't open/read file: check file path/integrity\n",
      "[ WARN:0@8.889] global loadsave.cpp:241 findDecoder imread_('dataset/prep/msks/image0000826.jpg'): can't open/read file: check file path/integrity\n",
      "[ WARN:0@8.945] global loadsave.cpp:241 findDecoder imread_('dataset/prep/msks/aug_3_image0001002.png'): can't open/read file: check file path/integrity\n",
      "[ WARN:0@9.001] global loadsave.cpp:241 findDecoder imread_('dataset/prep/msks/aug_2_image0001074.png'): can't open/read file: check file path/integrity\n",
      "[ WARN:0@9.059] global loadsave.cpp:241 findDecoder imread_('dataset/prep/msks/aug_2_image0000785.png'): can't open/read file: check file path/integrity\n",
      "[ WARN:0@9.118] global loadsave.cpp:241 findDecoder imread_('dataset/prep/msks/aug_2_image0000791.png'): can't open/read file: check file path/integrity\n",
      "[ WARN:0@9.173] global loadsave.cpp:241 findDecoder imread_('dataset/prep/msks/aug_2_image0000975.png'): can't open/read file: check file path/integrity\n",
      "[ WARN:0@9.231] global loadsave.cpp:241 findDecoder imread_('dataset/prep/msks/aug_4_image0000851.png'): can't open/read file: check file path/integrity\n",
      "[ WARN:0@9.286] global loadsave.cpp:241 findDecoder imread_('dataset/prep/msks/aug_4_image0000886.png'): can't open/read file: check file path/integrity\n",
      "[ WARN:0@9.347] global loadsave.cpp:241 findDecoder imread_('dataset/prep/msks/aug_2_image0001076.png'): can't open/read file: check file path/integrity\n",
      "[ WARN:0@9.406] global loadsave.cpp:241 findDecoder imread_('dataset/prep/msks/aug_3_image0000861.png'): can't open/read file: check file path/integrity\n",
      "[ WARN:0@9.466] global loadsave.cpp:241 findDecoder imread_('dataset/prep/msks/aug_3_image0000849.png'): can't open/read file: check file path/integrity\n",
      "[ WARN:0@9.522] global loadsave.cpp:241 findDecoder imread_('dataset/prep/msks/aug_1_image0001055.png'): can't open/read file: check file path/integrity\n",
      "[ WARN:0@9.556] global loadsave.cpp:241 findDecoder imread_('dataset/prep/msks/image0000831.jpg'): can't open/read file: check file path/integrity\n",
      "[ WARN:0@9.615] global loadsave.cpp:241 findDecoder imread_('dataset/prep/msks/aug_3_image0001015.png'): can't open/read file: check file path/integrity\n",
      "[ WARN:0@9.673] global loadsave.cpp:241 findDecoder imread_('dataset/prep/msks/aug_2_image0000976.png'): can't open/read file: check file path/integrity\n",
      "[ WARN:0@9.729] global loadsave.cpp:241 findDecoder imread_('dataset/prep/msks/aug_4_image0001037.png'): can't open/read file: check file path/integrity\n",
      "[ WARN:0@9.761] global loadsave.cpp:241 findDecoder imread_('dataset/prep/msks/image0001055.jpg'): can't open/read file: check file path/integrity\n",
      "[ WARN:0@9.819] global loadsave.cpp:241 findDecoder imread_('dataset/prep/msks/aug_1_image0000831.png'): can't open/read file: check file path/integrity\n",
      "[ WARN:0@9.879] global loadsave.cpp:241 findDecoder imread_('dataset/prep/msks/aug_4_image0000857.png'): can't open/read file: check file path/integrity\n",
      "[ WARN:0@9.936] global loadsave.cpp:241 findDecoder imread_('dataset/prep/msks/aug_1_image0000947.png'): can't open/read file: check file path/integrity\n",
      "[ WARN:0@9.969] global loadsave.cpp:241 findDecoder imread_('dataset/prep/msks/image0000836.jpg'): can't open/read file: check file path/integrity\n",
      "[ WARN:0@10.028] global loadsave.cpp:241 findDecoder imread_('dataset/prep/msks/aug_2_image0000805.png'): can't open/read file: check file path/integrity\n",
      "[ WARN:0@10.086] global loadsave.cpp:241 findDecoder imread_('dataset/prep/msks/aug_2_image0000838.png'): can't open/read file: check file path/integrity\n",
      "[ WARN:0@10.119] global loadsave.cpp:241 findDecoder imread_('dataset/prep/msks/image0001056.jpg'): can't open/read file: check file path/integrity\n",
      "[ WARN:0@10.175] global loadsave.cpp:241 findDecoder imread_('dataset/prep/msks/aug_1_image0000826.png'): can't open/read file: check file path/integrity\n",
      "[ WARN:0@10.232] global loadsave.cpp:241 findDecoder imread_('dataset/prep/msks/aug_3_image0000975.png'): can't open/read file: check file path/integrity\n",
      "[ WARN:0@10.290] global loadsave.cpp:241 findDecoder imread_('dataset/prep/msks/aug_3_image0000791.png'): can't open/read file: check file path/integrity\n",
      "[ WARN:0@10.348] global loadsave.cpp:241 findDecoder imread_('dataset/prep/msks/aug_3_image0000785.png'): can't open/read file: check file path/integrity\n",
      "[ WARN:0@10.405] global loadsave.cpp:241 findDecoder imread_('dataset/prep/msks/aug_2_image0001002.png'): can't open/read file: check file path/integrity\n",
      "[ WARN:0@10.460] global loadsave.cpp:241 findDecoder imread_('dataset/prep/msks/aug_2_image0001016.png'): can't open/read file: check file path/integrity\n",
      "[ WARN:0@10.515] global loadsave.cpp:241 findDecoder imread_('dataset/prep/msks/aug_3_image0001074.png'): can't open/read file: check file path/integrity\n",
      "[ WARN:0@10.575] global loadsave.cpp:241 findDecoder imread_('dataset/prep/msks/aug_4_image0000947.png'): can't open/read file: check file path/integrity\n",
      "[ WARN:0@10.607] global loadsave.cpp:241 findDecoder imread_('dataset/prep/msks/image0000851.jpg'): can't open/read file: check file path/integrity\n",
      "[ WARN:0@10.663] global loadsave.cpp:241 findDecoder imread_('dataset/prep/msks/aug_3_image0001075.png'): can't open/read file: check file path/integrity\n",
      "[ WARN:0@10.694] global loadsave.cpp:241 findDecoder imread_('dataset/prep/msks/image0000886.jpg'): can't open/read file: check file path/integrity\n",
      "[ WARN:0@10.752] global loadsave.cpp:241 findDecoder imread_('dataset/prep/msks/aug_4_image0000826.png'): can't open/read file: check file path/integrity\n",
      "[ WARN:0@10.808] global loadsave.cpp:241 findDecoder imread_('dataset/prep/msks/aug_3_image0000948.png'): can't open/read file: check file path/integrity\n",
      "[ WARN:0@10.863] global loadsave.cpp:241 findDecoder imread_('dataset/prep/msks/aug_3_image0000976.png'): can't open/read file: check file path/integrity\n",
      "[ WARN:0@10.920] global loadsave.cpp:241 findDecoder imread_('dataset/prep/msks/aug_2_image0001015.png'): can't open/read file: check file path/integrity\n",
      "[ WARN:0@10.976] global loadsave.cpp:241 findDecoder imread_('dataset/prep/msks/aug_1_image0001037.png'): can't open/read file: check file path/integrity\n",
      "[ WARN:0@11.034] global loadsave.cpp:241 findDecoder imread_('dataset/prep/msks/aug_2_image0000849.png'): can't open/read file: check file path/integrity\n",
      "[ WARN:0@11.090] global loadsave.cpp:241 findDecoder imread_('dataset/prep/msks/aug_2_image0000861.png'): can't open/read file: check file path/integrity\n",
      "[ WARN:0@11.143] global loadsave.cpp:241 findDecoder imread_('dataset/prep/msks/aug_3_image0001076.png'): can't open/read file: check file path/integrity\n",
      "[ WARN:0@11.201] global loadsave.cpp:241 findDecoder imread_('dataset/prep/msks/aug_1_image0000857.png'): can't open/read file: check file path/integrity\n",
      "[ WARN:0@11.257] global loadsave.cpp:241 findDecoder imread_('dataset/prep/msks/aug_4_image0000831.png'): can't open/read file: check file path/integrity\n",
      "[ WARN:0@11.288] global loadsave.cpp:241 findDecoder imread_('dataset/prep/msks/image0001037.jpg'): can't open/read file: check file path/integrity\n",
      "[ WARN:0@11.318] global loadsave.cpp:241 findDecoder imread_('dataset/prep/msks/image0000857.jpg'): can't open/read file: check file path/integrity\n",
      "[ WARN:0@11.373] global loadsave.cpp:241 findDecoder imread_('dataset/prep/msks/aug_4_image0001055.png'): can't open/read file: check file path/integrity\n",
      "[ WARN:0@11.429] global loadsave.cpp:241 findDecoder imread_('dataset/prep/msks/aug_4_image0000836.png'): can't open/read file: check file path/integrity\n",
      "[ WARN:0@11.485] global loadsave.cpp:241 findDecoder imread_('dataset/prep/msks/aug_3_image0000838.png'): can't open/read file: check file path/integrity\n",
      "[ WARN:0@11.542] global loadsave.cpp:241 findDecoder imread_('dataset/prep/msks/aug_3_image0000805.png'): can't open/read file: check file path/integrity\n",
      "[ WARN:0@11.596] global loadsave.cpp:241 findDecoder imread_('dataset/prep/msks/aug_1_image0000886.png'): can't open/read file: check file path/integrity\n",
      "[ WARN:0@11.654] global loadsave.cpp:241 findDecoder imread_('dataset/prep/msks/aug_1_image0000851.png'): can't open/read file: check file path/integrity\n",
      "[ WARN:0@11.710] global loadsave.cpp:241 findDecoder imread_('dataset/prep/msks/aug_4_image0001056.png'): can't open/read file: check file path/integrity\n"
     ]
    }
   ],
   "source": [
    "model = WearDetector()\n",
    "model.load_data({'images':'dataset/prep/imgs','masks':'dataset/prep/msks'})"
   ]
  },
  {
   "cell_type": "code",
   "execution_count": null,
   "metadata": {},
   "outputs": [],
   "source": [
    "from utils.loss_function import MultiLabelLoss"
   ]
  },
  {
   "cell_type": "code",
   "execution_count": null,
   "metadata": {},
   "outputs": [
    {
     "data": {
      "text/plain": [
       "(125, 512, 512)"
      ]
     },
     "execution_count": 5,
     "metadata": {},
     "output_type": "execute_result"
    }
   ],
   "source": [
    "print(model.X.shape)\n",
    "print(model.y.shape)"
   ]
  },
  {
   "cell_type": "code",
   "execution_count": 4,
   "metadata": {},
   "outputs": [
    {
     "ename": "ValueError",
     "evalue": "Data cardinality is ambiguous. Make sure all arrays contain the same number of samples.'x' sizes: 80\n'y' sizes: 25\n",
     "output_type": "error",
     "traceback": [
      "\u001b[0;31m---------------------------------------------------------------------------\u001b[0m",
      "\u001b[0;31mValueError\u001b[0m                                Traceback (most recent call last)",
      "Cell \u001b[0;32mIn[4], line 1\u001b[0m\n\u001b[0;32m----> 1\u001b[0m \u001b[43mmodel\u001b[49m\u001b[38;5;241;43m.\u001b[39;49m\u001b[43mtrain\u001b[49m\u001b[43m(\u001b[49m\u001b[43mloss\u001b[49m\u001b[38;5;241;43m=\u001b[39;49m\u001b[43mMultiLabelLoss\u001b[49m\u001b[43m)\u001b[49m\n",
      "File \u001b[0;32m/workspaces/coding zm/utils/modeling.py:160\u001b[0m, in \u001b[0;36mWearDetector.train\u001b[0;34m(self, loss, lr, epochs, batch_size, test_size, verbose, eval)\u001b[0m\n\u001b[1;32m    158\u001b[0m optimizer\u001b[38;5;241m=\u001b[39mAdam(learning_rate\u001b[38;5;241m=\u001b[39mlr)\n\u001b[1;32m    159\u001b[0m \u001b[38;5;28mself\u001b[39m\u001b[38;5;241m.\u001b[39mcompile(optimizer\u001b[38;5;241m=\u001b[39moptimizer, loss\u001b[38;5;241m=\u001b[39mloss, metrics\u001b[38;5;241m=\u001b[39m\u001b[38;5;28mself\u001b[39m\u001b[38;5;241m.\u001b[39mmodel\u001b[38;5;241m.\u001b[39mcompile(optimizer\u001b[38;5;241m=\u001b[39moptimizer, loss\u001b[38;5;241m=\u001b[39m\u001b[38;5;124m\"\u001b[39m\u001b[38;5;124mcategorical_crossentropy\u001b[39m\u001b[38;5;124m\"\u001b[39m, metrics\u001b[38;5;241m=\u001b[39m[\u001b[38;5;124m'\u001b[39m\u001b[38;5;124maccuracy\u001b[39m\u001b[38;5;124m'\u001b[39m]))\n\u001b[0;32m--> 160\u001b[0m history \u001b[38;5;241m=\u001b[39m \u001b[38;5;28;43mself\u001b[39;49m\u001b[38;5;241;43m.\u001b[39;49m\u001b[43mmodel\u001b[49m\u001b[38;5;241;43m.\u001b[39;49m\u001b[43mfit\u001b[49m\u001b[43m(\u001b[49m\u001b[43mX_train\u001b[49m\u001b[43m,\u001b[49m\u001b[43m \u001b[49m\u001b[43my_test\u001b[49m\u001b[43m,\u001b[49m\u001b[43m \u001b[49m\u001b[43mepochs\u001b[49m\u001b[38;5;241;43m=\u001b[39;49m\u001b[43mepochs\u001b[49m\u001b[43m,\u001b[49m\u001b[43m \u001b[49m\u001b[43mbatch_size\u001b[49m\u001b[38;5;241;43m=\u001b[39;49m\u001b[43mbatch_size\u001b[49m\u001b[43m,\u001b[49m\u001b[43m \u001b[49m\u001b[43mverbose\u001b[49m\u001b[38;5;241;43m=\u001b[39;49m\u001b[43mverbose\u001b[49m\u001b[43m,\u001b[49m\u001b[43m \u001b[49m\u001b[43mvalidation_split\u001b[49m\u001b[38;5;241;43m=\u001b[39;49m\u001b[38;5;241;43m0.2\u001b[39;49m\u001b[43m)\u001b[49m\n\u001b[1;32m    161\u001b[0m \u001b[38;5;28mprint\u001b[39m(\u001b[38;5;124m\"\u001b[39m\u001b[38;5;124mTraining complete with final accuracy: \u001b[39m\u001b[38;5;132;01m{:.2f}\u001b[39;00m\u001b[38;5;124m%\u001b[39m\u001b[38;5;124m\"\u001b[39m\u001b[38;5;241m.\u001b[39mformat(history\u001b[38;5;241m.\u001b[39mhistory[\u001b[38;5;124m'\u001b[39m\u001b[38;5;124maccuracy\u001b[39m\u001b[38;5;124m'\u001b[39m][\u001b[38;5;241m-\u001b[39m\u001b[38;5;241m1\u001b[39m] \u001b[38;5;241m*\u001b[39m \u001b[38;5;241m100\u001b[39m))\n\u001b[1;32m    163\u001b[0m \u001b[38;5;66;03m# Optionally, evaluate on test set\u001b[39;00m\n",
      "File \u001b[0;32m/opt/conda/envs/kip/lib/python3.12/site-packages/keras/src/utils/traceback_utils.py:123\u001b[0m, in \u001b[0;36mfilter_traceback.<locals>.error_handler\u001b[0;34m(*args, **kwargs)\u001b[0m\n\u001b[1;32m    120\u001b[0m     filtered_tb \u001b[38;5;241m=\u001b[39m _process_traceback_frames(e\u001b[38;5;241m.\u001b[39m__traceback__)\n\u001b[1;32m    121\u001b[0m     \u001b[38;5;66;03m# To get the full stack trace, call:\u001b[39;00m\n\u001b[1;32m    122\u001b[0m     \u001b[38;5;66;03m# `keras.config.disable_traceback_filtering()`\u001b[39;00m\n\u001b[0;32m--> 123\u001b[0m     \u001b[38;5;28;01mraise\u001b[39;00m e\u001b[38;5;241m.\u001b[39mwith_traceback(filtered_tb) \u001b[38;5;28;01mfrom\u001b[39;00m \u001b[38;5;28;01mNone\u001b[39;00m\n\u001b[1;32m    124\u001b[0m \u001b[38;5;28;01mfinally\u001b[39;00m:\n\u001b[1;32m    125\u001b[0m     \u001b[38;5;28;01mdel\u001b[39;00m filtered_tb\n",
      "File \u001b[0;32m/opt/conda/envs/kip/lib/python3.12/site-packages/keras/src/trainers/data_adapters/data_adapter_utils.py:131\u001b[0m, in \u001b[0;36mcheck_data_cardinality\u001b[0;34m(data)\u001b[0m\n\u001b[1;32m    127\u001b[0m     sizes \u001b[38;5;241m=\u001b[39m \u001b[38;5;124m\"\u001b[39m\u001b[38;5;124m, \u001b[39m\u001b[38;5;124m\"\u001b[39m\u001b[38;5;241m.\u001b[39mjoin(\n\u001b[1;32m    128\u001b[0m         \u001b[38;5;28mstr\u001b[39m(i\u001b[38;5;241m.\u001b[39mshape[\u001b[38;5;241m0\u001b[39m]) \u001b[38;5;28;01mfor\u001b[39;00m i \u001b[38;5;129;01min\u001b[39;00m tree\u001b[38;5;241m.\u001b[39mflatten(single_data)\n\u001b[1;32m    129\u001b[0m     )\n\u001b[1;32m    130\u001b[0m     msg \u001b[38;5;241m+\u001b[39m\u001b[38;5;241m=\u001b[39m \u001b[38;5;124mf\u001b[39m\u001b[38;5;124m\"\u001b[39m\u001b[38;5;124m'\u001b[39m\u001b[38;5;132;01m{\u001b[39;00mlabel\u001b[38;5;132;01m}\u001b[39;00m\u001b[38;5;124m'\u001b[39m\u001b[38;5;124m sizes: \u001b[39m\u001b[38;5;132;01m{\u001b[39;00msizes\u001b[38;5;132;01m}\u001b[39;00m\u001b[38;5;130;01m\\n\u001b[39;00m\u001b[38;5;124m\"\u001b[39m\n\u001b[0;32m--> 131\u001b[0m \u001b[38;5;28;01mraise\u001b[39;00m \u001b[38;5;167;01mValueError\u001b[39;00m(msg)\n",
      "\u001b[0;31mValueError\u001b[0m: Data cardinality is ambiguous. Make sure all arrays contain the same number of samples.'x' sizes: 80\n'y' sizes: 25\n"
     ]
    }
   ],
   "source": [
    "model.train(loss=MultiLabelLoss)"
   ]
  },
  {
   "cell_type": "code",
   "execution_count": null,
   "metadata": {},
   "outputs": [
    {
     "ename": "ValueError",
     "evalue": "You must call `compile()` before using the model.",
     "output_type": "error",
     "traceback": [
      "\u001b[0;31m---------------------------------------------------------------------------\u001b[0m",
      "\u001b[0;31mValueError\u001b[0m                                Traceback (most recent call last)",
      "Cell \u001b[0;32mIn[6], line 8\u001b[0m\n\u001b[1;32m      1\u001b[0m param_grid \u001b[38;5;241m=\u001b[39m {\n\u001b[1;32m      2\u001b[0m             \u001b[38;5;124m'\u001b[39m\u001b[38;5;124mlr\u001b[39m\u001b[38;5;124m'\u001b[39m: [\u001b[38;5;241m0.01\u001b[39m, \u001b[38;5;241m0.001\u001b[39m],\n\u001b[1;32m      3\u001b[0m             \u001b[38;5;124m'\u001b[39m\u001b[38;5;124mbatch_size\u001b[39m\u001b[38;5;124m'\u001b[39m: [\u001b[38;5;241m16\u001b[39m, \u001b[38;5;241m32\u001b[39m],\n\u001b[1;32m      4\u001b[0m             \u001b[38;5;124m'\u001b[39m\u001b[38;5;124mepochs\u001b[39m\u001b[38;5;124m'\u001b[39m:[\u001b[38;5;241m10\u001b[39m , \u001b[38;5;241m20\u001b[39m]\n\u001b[1;32m      5\u001b[0m             }\n\u001b[0;32m----> 8\u001b[0m \u001b[43mmodel\u001b[49m\u001b[38;5;241;43m.\u001b[39;49m\u001b[43mgrid_search_train\u001b[49m\u001b[43m(\u001b[49m\u001b[43mparam_grid\u001b[49m\u001b[43m)\u001b[49m\n",
      "File \u001b[0;32m/workspaces/coding zm/utils/modeling.py:204\u001b[0m, in \u001b[0;36mWearDetector.grid_search_train\u001b[0;34m(self, param_grid, epochs, batch_size, test_size)\u001b[0m\n\u001b[1;32m    202\u001b[0m X_train, X_val, y_train, y_val \u001b[38;5;241m=\u001b[39m train_test_split(X, y, test_size\u001b[38;5;241m=\u001b[39mtest_size)\n\u001b[1;32m    203\u001b[0m \u001b[38;5;28;01mfor\u001b[39;00m params \u001b[38;5;129;01min\u001b[39;00m grid:\n\u001b[0;32m--> 204\u001b[0m     score \u001b[38;5;241m=\u001b[39m \u001b[38;5;28;43mself\u001b[39;49m\u001b[38;5;241;43m.\u001b[39;49m\u001b[43mtrain\u001b[49m\u001b[43m(\u001b[49m\u001b[43m \u001b[49m\u001b[43mepochs\u001b[49m\u001b[38;5;241;43m=\u001b[39;49m\u001b[43mparams\u001b[49m\u001b[43m[\u001b[49m\u001b[38;5;124;43m'\u001b[39;49m\u001b[38;5;124;43mepochs\u001b[39;49m\u001b[38;5;124;43m'\u001b[39;49m\u001b[43m]\u001b[49m\u001b[43m,\u001b[49m\u001b[43m \u001b[49m\u001b[43mbatch_size\u001b[49m\u001b[38;5;241;43m=\u001b[39;49m\u001b[43mparams\u001b[49m\u001b[43m[\u001b[49m\u001b[38;5;124;43m'\u001b[39;49m\u001b[38;5;124;43mbatch_size\u001b[39;49m\u001b[38;5;124;43m'\u001b[39;49m\u001b[43m]\u001b[49m\u001b[43m,\u001b[49m\u001b[43mlr\u001b[49m\u001b[38;5;241;43m=\u001b[39;49m\u001b[43mparams\u001b[49m\u001b[43m[\u001b[49m\u001b[38;5;124;43m'\u001b[39;49m\u001b[38;5;124;43mlr\u001b[39;49m\u001b[38;5;124;43m'\u001b[39;49m\u001b[43m]\u001b[49m\u001b[43m,\u001b[49m\u001b[43mtest_size\u001b[49m\u001b[38;5;241;43m=\u001b[39;49m\u001b[38;5;241;43m0.2\u001b[39;49m\u001b[43m)\u001b[49m\n\u001b[1;32m    205\u001b[0m     \u001b[38;5;28;01mif\u001b[39;00m score \u001b[38;5;241m<\u001b[39m best_score:\n\u001b[1;32m    206\u001b[0m         best_score \u001b[38;5;241m=\u001b[39m score\n",
      "File \u001b[0;32m/workspaces/coding zm/utils/modeling.py:160\u001b[0m, in \u001b[0;36mWearDetector.train\u001b[0;34m(self, loss, lr, epochs, batch_size, test_size, verbose, eval)\u001b[0m\n\u001b[1;32m    158\u001b[0m optimizer\u001b[38;5;241m=\u001b[39mAdam(learning_rate\u001b[38;5;241m=\u001b[39mlr)\n\u001b[1;32m    159\u001b[0m \u001b[38;5;28mself\u001b[39m\u001b[38;5;241m.\u001b[39mcompile(optimizer\u001b[38;5;241m=\u001b[39moptimizer, loss\u001b[38;5;241m=\u001b[39mloss, metrics\u001b[38;5;241m=\u001b[39m[\u001b[38;5;124m'\u001b[39m\u001b[38;5;124maccuracy\u001b[39m\u001b[38;5;124m'\u001b[39m])\n\u001b[0;32m--> 160\u001b[0m history \u001b[38;5;241m=\u001b[39m \u001b[38;5;28;43mself\u001b[39;49m\u001b[38;5;241;43m.\u001b[39;49m\u001b[43mmodel\u001b[49m\u001b[38;5;241;43m.\u001b[39;49m\u001b[43mfit\u001b[49m\u001b[43m(\u001b[49m\u001b[43mX_train\u001b[49m\u001b[43m,\u001b[49m\u001b[43m \u001b[49m\u001b[43my_test\u001b[49m\u001b[43m,\u001b[49m\u001b[43m \u001b[49m\u001b[43mepochs\u001b[49m\u001b[38;5;241;43m=\u001b[39;49m\u001b[43mepochs\u001b[49m\u001b[43m,\u001b[49m\u001b[43m \u001b[49m\u001b[43mbatch_size\u001b[49m\u001b[38;5;241;43m=\u001b[39;49m\u001b[43mbatch_size\u001b[49m\u001b[43m,\u001b[49m\u001b[43m \u001b[49m\u001b[43mverbose\u001b[49m\u001b[38;5;241;43m=\u001b[39;49m\u001b[43mverbose\u001b[49m\u001b[43m,\u001b[49m\u001b[43m \u001b[49m\u001b[43mvalidation_split\u001b[49m\u001b[38;5;241;43m=\u001b[39;49m\u001b[38;5;241;43m0.2\u001b[39;49m\u001b[43m)\u001b[49m\n\u001b[1;32m    161\u001b[0m \u001b[38;5;28mprint\u001b[39m(\u001b[38;5;124m\"\u001b[39m\u001b[38;5;124mTraining complete with final accuracy: \u001b[39m\u001b[38;5;132;01m{:.2f}\u001b[39;00m\u001b[38;5;124m%\u001b[39m\u001b[38;5;124m\"\u001b[39m\u001b[38;5;241m.\u001b[39mformat(history\u001b[38;5;241m.\u001b[39mhistory[\u001b[38;5;124m'\u001b[39m\u001b[38;5;124maccuracy\u001b[39m\u001b[38;5;124m'\u001b[39m][\u001b[38;5;241m-\u001b[39m\u001b[38;5;241m1\u001b[39m] \u001b[38;5;241m*\u001b[39m \u001b[38;5;241m100\u001b[39m))\n\u001b[1;32m    163\u001b[0m \u001b[38;5;66;03m# Optionally, evaluate on test set\u001b[39;00m\n",
      "File \u001b[0;32m/opt/conda/envs/kip/lib/python3.12/site-packages/keras/src/utils/traceback_utils.py:123\u001b[0m, in \u001b[0;36mfilter_traceback.<locals>.error_handler\u001b[0;34m(*args, **kwargs)\u001b[0m\n\u001b[1;32m    120\u001b[0m     filtered_tb \u001b[38;5;241m=\u001b[39m _process_traceback_frames(e\u001b[38;5;241m.\u001b[39m__traceback__)\n\u001b[1;32m    121\u001b[0m     \u001b[38;5;66;03m# To get the full stack trace, call:\u001b[39;00m\n\u001b[1;32m    122\u001b[0m     \u001b[38;5;66;03m# `keras.config.disable_traceback_filtering()`\u001b[39;00m\n\u001b[0;32m--> 123\u001b[0m     \u001b[38;5;28;01mraise\u001b[39;00m e\u001b[38;5;241m.\u001b[39mwith_traceback(filtered_tb) \u001b[38;5;28;01mfrom\u001b[39;00m \u001b[38;5;28;01mNone\u001b[39;00m\n\u001b[1;32m    124\u001b[0m \u001b[38;5;28;01mfinally\u001b[39;00m:\n\u001b[1;32m    125\u001b[0m     \u001b[38;5;28;01mdel\u001b[39;00m filtered_tb\n",
      "File \u001b[0;32m/opt/conda/envs/kip/lib/python3.12/site-packages/keras/src/trainers/trainer.py:879\u001b[0m, in \u001b[0;36mTrainer._assert_compile_called\u001b[0;34m(self, method_name)\u001b[0m\n\u001b[1;32m    877\u001b[0m \u001b[38;5;28;01melse\u001b[39;00m:\n\u001b[1;32m    878\u001b[0m     msg \u001b[38;5;241m+\u001b[39m\u001b[38;5;241m=\u001b[39m \u001b[38;5;124mf\u001b[39m\u001b[38;5;124m\"\u001b[39m\u001b[38;5;124mcalling `\u001b[39m\u001b[38;5;132;01m{\u001b[39;00mmethod_name\u001b[38;5;132;01m}\u001b[39;00m\u001b[38;5;124m()`.\u001b[39m\u001b[38;5;124m\"\u001b[39m\n\u001b[0;32m--> 879\u001b[0m \u001b[38;5;28;01mraise\u001b[39;00m \u001b[38;5;167;01mValueError\u001b[39;00m(msg)\n",
      "\u001b[0;31mValueError\u001b[0m: You must call `compile()` before using the model."
     ]
    }
   ],
   "source": [
    "param_grid = {\n",
    "            'lr': [0.01, 0.001],\n",
    "            'batch_size': [16, 32],\n",
    "            'epochs':[10 , 20]\n",
    "            }\n",
    "\n",
    "\n",
    "model.grid_search_train(param_grid)"
   ]
  },
  {
   "cell_type": "code",
   "execution_count": null,
   "metadata": {},
   "outputs": [],
   "source": []
  }
 ],
 "metadata": {
  "kernelspec": {
   "display_name": "kip",
   "language": "python",
   "name": "python3"
  },
  "language_info": {
   "codemirror_mode": {
    "name": "ipython",
    "version": 3
   },
   "file_extension": ".py",
   "mimetype": "text/x-python",
   "name": "python",
   "nbconvert_exporter": "python",
   "pygments_lexer": "ipython3",
   "version": "3.12.4"
  }
 },
 "nbformat": 4,
 "nbformat_minor": 2
}
